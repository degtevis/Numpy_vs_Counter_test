{
 "cells": [
  {
   "cell_type": "code",
   "execution_count": 1,
   "metadata": {
    "collapsed": true
   },
   "outputs": [],
   "source": [
    "from collections import Counter\n",
    "import numpy as np"
   ]
  },
  {
   "cell_type": "code",
   "execution_count": 2,
   "metadata": {
    "collapsed": false
   },
   "outputs": [
    {
     "name": "stdout",
     "output_type": "stream",
     "text": [
      "['third' 'third' 'fourth' ..., 'fourth' 'first' 'third']\n"
     ]
    }
   ],
   "source": [
    "classes = ['first', 'second', 'third', 'fourth']\n",
    "array = []\n",
    "for i in range(100000):\n",
    "    array.append(classes[np.random.randint(0, 4)])\n",
    "array = np.array(array)\n",
    "print array"
   ]
  },
  {
   "cell_type": "code",
   "execution_count": 3,
   "metadata": {
    "collapsed": false
   },
   "outputs": [
    {
     "name": "stdout",
     "output_type": "stream",
     "text": [
      "24920\n"
     ]
    }
   ],
   "source": [
    "a = array[array == 'first'].shape[0]\n",
    "print a"
   ]
  },
  {
   "cell_type": "code",
   "execution_count": 4,
   "metadata": {
    "collapsed": false
   },
   "outputs": [
    {
     "name": "stdout",
     "output_type": "stream",
     "text": [
      "24920\n"
     ]
    }
   ],
   "source": [
    "test_counter = Counter()\n",
    "for i in xrange(array.shape[0]):\n",
    "    test_counter[array[i]] += 1\n",
    "print test_counter['first']"
   ]
  },
  {
   "cell_type": "code",
   "execution_count": 5,
   "metadata": {
    "collapsed": false
   },
   "outputs": [
    {
     "name": "stdout",
     "output_type": "stream",
     "text": [
      "100 loops, best of 3: 2.58 ms per loop\n"
     ]
    }
   ],
   "source": [
    "%%timeit\n",
    "a = array[array == 'first'].shape[0]"
   ]
  },
  {
   "cell_type": "code",
   "execution_count": 7,
   "metadata": {
    "collapsed": false
   },
   "outputs": [
    {
     "name": "stdout",
     "output_type": "stream",
     "text": [
      "10 loops, best of 3: 64.5 ms per loop\n"
     ]
    }
   ],
   "source": [
    "%%timeit\n",
    "test_counter = Counter()\n",
    "for i in xrange(array.shape[0]):\n",
    "    test_counter[array[i]] += 1"
   ]
  },
  {
   "cell_type": "code",
   "execution_count": null,
   "metadata": {
    "collapsed": true
   },
   "outputs": [],
   "source": []
  }
 ],
 "metadata": {
  "kernelspec": {
   "display_name": "Python 2",
   "language": "python",
   "name": "python2"
  },
  "language_info": {
   "codemirror_mode": {
    "name": "ipython",
    "version": 2
   },
   "file_extension": ".py",
   "mimetype": "text/x-python",
   "name": "python",
   "nbconvert_exporter": "python",
   "pygments_lexer": "ipython2",
   "version": "2.7.11"
  }
 },
 "nbformat": 4,
 "nbformat_minor": 0
}
